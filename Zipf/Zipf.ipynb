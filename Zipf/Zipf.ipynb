{
  "nbformat": 4,
  "nbformat_minor": 0,
  "metadata": {
    "kernelspec": {
      "display_name": "Python 3",
      "language": "python",
      "name": "python3"
    },
    "language_info": {
      "codemirror_mode": {
        "name": "ipython",
        "version": 3
      },
      "file_extension": ".py",
      "mimetype": "text/x-python",
      "name": "python",
      "nbconvert_exporter": "python",
      "pygments_lexer": "ipython3",
      "version": "3.6.0"
    },
    "latex_envs": {
      "LaTeX_envs_menu_present": true,
      "autocomplete": true,
      "bibliofile": "biblio.bib",
      "cite_by": "apalike",
      "current_citInitial": 1,
      "eqLabelWithNumbers": true,
      "eqNumInitial": 1,
      "hotkeys": {
        "equation": "Ctrl-E",
        "itemize": "Ctrl-I"
      },
      "labels_anchors": false,
      "latex_user_defs": false,
      "report_style_numbering": false,
      "user_envs_cfg": false
    },
    "colab": {
      "name": "Zipf.ipynb",
      "provenance": []
    }
  },
  "cells": [
    {
      "cell_type": "markdown",
      "metadata": {
        "id": "T7qJyb8ypLhA"
      },
      "source": [
        "# Some Simple Corpus Statistics\n",
        "\n",
        "Let's Count the words in Moby Dick. The book is part of nltk.\n",
        "\n",
        "If you get an error rum \"nltk.downöload()\" once and select \"everything in the book\"."
      ]
    },
    {
      "cell_type": "code",
      "metadata": {
        "ExecuteTime": {
          "end_time": "2018-05-29T17:17:02.264805Z",
          "start_time": "2018-05-29T17:16:59.146805Z"
        },
        "collapsed": true,
        "colab": {
          "base_uri": "https://localhost:8080/"
        },
        "id": "RWoUMFerpLhF",
        "outputId": "742678d1-f520-48d9-896c-e5973d2cf571"
      },
      "source": [
        "import nltk\n",
        "nltk.download('gutenberg')\n",
        "words = nltk.corpus.gutenberg.words('melville-moby_dick.txt')"
      ],
      "execution_count": 1,
      "outputs": [
        {
          "output_type": "stream",
          "name": "stdout",
          "text": [
            "[nltk_data] Downloading package gutenberg to /root/nltk_data...\n",
            "[nltk_data]   Package gutenberg is already up-to-date!\n"
          ]
        }
      ]
    },
    {
      "cell_type": "code",
      "metadata": {
        "ExecuteTime": {
          "end_time": "2018-05-29T17:17:02.558805Z",
          "start_time": "2018-05-29T17:17:02.266805Z"
        },
        "colab": {
          "base_uri": "https://localhost:8080/"
        },
        "id": "sET7IUbTpLhG",
        "outputId": "a1e0ecc6-a41e-4aad-b4ca-20713ffa5cf6"
      },
      "source": [
        "len(words)"
      ],
      "execution_count": 2,
      "outputs": [
        {
          "output_type": "execute_result",
          "data": {
            "text/plain": [
              "260819"
            ]
          },
          "metadata": {},
          "execution_count": 2
        }
      ]
    },
    {
      "cell_type": "code",
      "metadata": {
        "ExecuteTime": {
          "end_time": "2018-05-29T17:17:02.566805Z",
          "start_time": "2018-05-29T17:17:02.560805Z"
        },
        "scrolled": true,
        "colab": {
          "base_uri": "https://localhost:8080/"
        },
        "id": "4eEVL1AHpLhH",
        "outputId": "42dae9a9-af02-48ab-e718-ff0b374fb30c"
      },
      "source": [
        "words[:50]"
      ],
      "execution_count": 3,
      "outputs": [
        {
          "output_type": "execute_result",
          "data": {
            "text/plain": [
              "['[',\n",
              " 'Moby',\n",
              " 'Dick',\n",
              " 'by',\n",
              " 'Herman',\n",
              " 'Melville',\n",
              " '1851',\n",
              " ']',\n",
              " 'ETYMOLOGY',\n",
              " '.',\n",
              " '(',\n",
              " 'Supplied',\n",
              " 'by',\n",
              " 'a',\n",
              " 'Late',\n",
              " 'Consumptive',\n",
              " 'Usher',\n",
              " 'to',\n",
              " 'a',\n",
              " 'Grammar',\n",
              " 'School',\n",
              " ')',\n",
              " 'The',\n",
              " 'pale',\n",
              " 'Usher',\n",
              " '--',\n",
              " 'threadbare',\n",
              " 'in',\n",
              " 'coat',\n",
              " ',',\n",
              " 'heart',\n",
              " ',',\n",
              " 'body',\n",
              " ',',\n",
              " 'and',\n",
              " 'brain',\n",
              " ';',\n",
              " 'I',\n",
              " 'see',\n",
              " 'him',\n",
              " 'now',\n",
              " '.',\n",
              " 'He',\n",
              " 'was',\n",
              " 'ever',\n",
              " 'dusting',\n",
              " 'his',\n",
              " 'old',\n",
              " 'lexicons',\n",
              " 'and']"
            ]
          },
          "metadata": {},
          "execution_count": 3
        }
      ]
    },
    {
      "cell_type": "markdown",
      "metadata": {
        "id": "phceL3l-pLhH"
      },
      "source": [
        "How many types do we have? How many singletons (hapax leomena)? What is the frequency of the most frequent word?\n",
        "\n",
        "To answer these questions we use the FreqDist class, an extension of the Counter class."
      ]
    },
    {
      "cell_type": "code",
      "metadata": {
        "ExecuteTime": {
          "end_time": "2018-05-29T17:17:02.974805Z",
          "start_time": "2018-05-29T17:17:02.569805Z"
        },
        "colab": {
          "base_uri": "https://localhost:8080/"
        },
        "id": "rueIX-r0pLhI",
        "outputId": "36d4f7e4-09c0-44bd-d0e8-3c64ea9406ed"
      },
      "source": [
        "word_dist_mb = nltk.FreqDist(words)\n",
        "\n",
        "print('Tokens:',word_dist_mb.N())\n",
        "print('Types:',word_dist_mb.B()) # identical to len(word_dist_mb))\n",
        "mft = word_dist_mb.max()\n",
        "print('Hapax Legomena:',len(word_dist_mb.hapaxes()))\n",
        "print('Most frequent token:',word_dist_mb.max() ,'(',word_dist_mb[mft],')')\n",
        "print('Most common tokens:',word_dist_mb.most_common(10))\n"
      ],
      "execution_count": 4,
      "outputs": [
        {
          "output_type": "stream",
          "name": "stdout",
          "text": [
            "Tokens: 260819\n",
            "Types: 19317\n",
            "Hapax Legomena: 9002\n",
            "Most frequent token: , ( 18713 )\n",
            "Most common tokens: [(',', 18713), ('the', 13721), ('.', 6862), ('of', 6536), ('and', 6024), ('a', 4569), ('to', 4542), (';', 4072), ('in', 3916), ('that', 2982)]\n"
          ]
        }
      ]
    },
    {
      "cell_type": "code",
      "metadata": {
        "ExecuteTime": {
          "end_time": "2018-05-29T17:17:04.289805Z",
          "start_time": "2018-05-29T17:17:02.977805Z"
        },
        "colab": {
          "base_uri": "https://localhost:8080/",
          "height": 291
        },
        "id": "GacUpuespLhI",
        "outputId": "532de05d-c3d1-456f-a800-7da91ce80e5a"
      },
      "source": [
        "word_dist_mb.plot(20,cumulative=False)"
      ],
      "execution_count": 5,
      "outputs": [
        {
          "output_type": "display_data",
          "data": {
            "image/png": "[encoded data removed]",
            "text/plain": [
              "<Figure size 432x288 with 1 Axes>"
            ]
          },
          "metadata": {
            "needs_background": "light"
          }
        }
      ]
    },
    {
      "cell_type": "code",
      "metadata": {
        "ExecuteTime": {
          "end_time": "2018-05-29T17:17:04.491805Z",
          "start_time": "2018-05-29T17:17:04.291805Z"
        },
        "colab": {
          "base_uri": "https://localhost:8080/",
          "height": 282
        },
        "id": "a7tmtZ9SpLhJ",
        "outputId": "ba8ed87d-8060-47b4-ff96-2a79c90cb2f6"
      },
      "source": [
        "%matplotlib inline\n",
        "import matplotlib.pyplot as plt\n",
        "\n",
        "wfreq_list = [(w,word_dist_mb[w]) for w in word_dist_mb]\n",
        "wfreq_list = sorted(wfreq_list,key = lambda x:x[1],reverse = True)\n",
        "\n",
        "plt.plot([f for w,f in wfreq_list], 'r')\n"
      ],
      "execution_count": 6,
      "outputs": [
        {
          "output_type": "execute_result",
          "data": {
            "text/plain": [
              "[<matplotlib.lines.Line2D at 0x7f43e0ba8210>]"
            ]
          },
          "metadata": {},
          "execution_count": 6
        },
        {
          "output_type": "display_data",
          "data": {
            "image/png": "[encoded data removed]",
            "text/plain": [
              "<Figure size 432x288 with 1 Axes>"
            ]
          },
          "metadata": {
            "needs_background": "light"
          }
        }
      ]
    },
    {
      "cell_type": "code",
      "metadata": {
        "ExecuteTime": {
          "end_time": "2018-05-29T17:17:05.400805Z",
          "start_time": "2018-05-29T17:17:04.598805Z"
        },
        "colab": {
          "base_uri": "https://localhost:8080/",
          "height": 269
        },
        "id": "6NO0mSsHpLhK",
        "outputId": "bb0dbe5f-f297-45b7-b0c0-9d889639188a"
      },
      "source": [
        "plt.plot([f for w,f in wfreq_list], 'r')\n",
        "plt.yscale('log')\n",
        "plt.xscale('log')\n",
        "plt.show()"
      ],
      "execution_count": 7,
      "outputs": [
        {
          "output_type": "display_data",
          "data": {
            "image/png": "[encoded data removed]",
            "text/plain": [
              "<Figure size 432x288 with 1 Axes>"
            ]
          },
          "metadata": {
            "needs_background": "light"
          }
        }
      ]
    },
    {
      "cell_type": "markdown",
      "metadata": {
        "id": "jZ7bYPM7pLhL"
      },
      "source": [
        "# Same for Brown Corpus"
      ]
    },
    {
      "cell_type": "code",
      "metadata": {
        "ExecuteTime": {
          "end_time": "2018-05-29T17:17:16.226805Z",
          "start_time": "2018-05-29T17:17:11.209805Z"
        },
        "colab": {
          "base_uri": "https://localhost:8080/"
        },
        "id": "FCfXELWupLhL",
        "outputId": "b15a106f-5f63-4987-8d9e-88cfac411f6b"
      },
      "source": [
        "from nltk.corpus import brown\n",
        "nltk.download('brown')\n",
        "word_dist_brown = nltk.FreqDist(brown.words())\n",
        "\n",
        "print('Tokens:',word_dist_brown.N())\n",
        "print('Types:',word_dist_brown.B()) # identical to len(word_dist_mb))\n",
        "mft = word_dist_brown.max()\n",
        "print('Hapax Legomena:',len(word_dist_brown.hapaxes()))\n",
        "print('Most frequent token:',word_dist_brown.max() ,'(',word_dist_brown[mft],')')\n",
        "print('Most common tokens:',word_dist_brown.most_common(10))\n"
      ],
      "execution_count": 8,
      "outputs": [
        {
          "output_type": "stream",
          "name": "stdout",
          "text": [
            "[nltk_data] Downloading package brown to /root/nltk_data...\n",
            "[nltk_data]   Package brown is already up-to-date!\n",
            "Tokens: 1161192\n",
            "Types: 56057\n",
            "Hapax Legomena: 25559\n",
            "Most frequent token: the ( 62713 )\n",
            "Most common tokens: [('the', 62713), (',', 58334), ('.', 49346), ('of', 36080), ('and', 27915), ('to', 25732), ('a', 21881), ('in', 19536), ('that', 10237), ('is', 10011)]\n"
          ]
        }
      ]
    },
    {
      "cell_type": "code",
      "metadata": {
        "ExecuteTime": {
          "end_time": "2018-05-29T17:17:16.887805Z",
          "start_time": "2018-05-29T17:17:16.228805Z"
        },
        "colab": {
          "base_uri": "https://localhost:8080/",
          "height": 274
        },
        "id": "Wi_UfSynpLhL",
        "outputId": "7ce61d0e-9718-4064-8ba2-76f54758cf2f"
      },
      "source": [
        "wfreq_list = [(w,word_dist_brown[w]) for w in word_dist_brown]\n",
        "wfreq_list = sorted(wfreq_list,key = lambda x:x[1],reverse = True)\n",
        "\n",
        "plt.plot([f for w,f in wfreq_list], 'r')\n",
        "plt.yscale('log')\n",
        "plt.xscale('log')\n",
        "plt.show()"
      ],
      "execution_count": 9,
      "outputs": [
        {
          "output_type": "display_data",
          "data": {
            "image/png": "[encoded data removed]",
            "text/plain": [
              "<Figure size 432x288 with 1 Axes>"
            ]
          },
          "metadata": {
            "needs_background": "light"
          }
        }
      ]
    }
  ]
}